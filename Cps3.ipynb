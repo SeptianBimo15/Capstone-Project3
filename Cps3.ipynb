{
 "cells": [
  {
   "cell_type": "markdown",
   "metadata": {},
   "source": [
    "# Hotel Booking Cancellation Predictive Model\n"
   ]
  },
  {
   "cell_type": "markdown",
   "metadata": {},
   "source": [
    "## Business Problem Understanding"
   ]
  },
  {
   "cell_type": "markdown",
   "metadata": {},
   "source": [
    "### Context\n",
    "\n",
    "Hotel A adalah sebuah jaringan hotel besar yang beroperasi di berbagai kota besar di Portugal. Sebagai bagian dari bisnisnya, hotel ini menerima ribuan reservasi setiap bulan. Namun, satu masalah besar yang mereka hadapi adalah tingginya tingkat pembatalan reservasi. Pembatalan reservasi menyebabkan berbagai masalah, termasuk: \n",
    " - Kerugian Pendapatan\n",
    " - Perencanaan Operasional\n",
    " - Pengalaman Pelanggan\n",
    "\n",
    "Target : \n",
    " - 0 : Tidak ada pembatalan reservasi\n",
    " - 1 : Adanya Pembatalan reservasi"
   ]
  },
  {
   "cell_type": "markdown",
   "metadata": {},
   "source": [
    "### Business Problem\n",
    "\n",
    "Hotel A ingin mengurangi tingkat pembatalan reservasi untuk meningkatkan efisiensi operasional dan pendapatan. Mereka memutuskan untuk menggunakan pendekatan data-driven untuk memprediksi kemungkinan pembatalan reservasi di masa depan sehingga mereka dapat mengambil tindakan pencegahan lebih awal.\n",
    "\n",
    "### Goals\n",
    "\n",
    "- Memprediksi Pembatalan\n",
    "- Mengoptimalkan Pendapatan\n",
    "- Meningkatkan Perencanaan Operasional\n",
    "- Meningkatkan Pengalaman Pelanggan"
   ]
  },
  {
   "cell_type": "markdown",
   "metadata": {},
   "source": [
    "## 1. Data Collection / Data Understanding"
   ]
  },
  {
   "cell_type": "markdown",
   "metadata": {},
   "source": [
    "Dataset Source : https://drive.google.com/drive/folders/17KIeOXK7eYGuzgpn_IljlUFcE4v96lSL"
   ]
  },
  {
   "cell_type": "code",
   "execution_count": 53,
   "metadata": {},
   "outputs": [],
   "source": [
    "# Library\n",
    "\n",
    "import pandas as pd\n",
    "import numpy as np\n",
    "import matplotlib.pyplot as plt\n",
    "from matplotlib.colors import ListedColormap, LinearSegmentedColormap\n",
    "import seaborn as sns\n",
    "\n",
    "# Feature Engineering\n",
    "from sklearn.pipeline import Pipeline\n",
    "from sklearn.impute import SimpleImputer\n",
    "from sklearn.preprocessing import OneHotEncoder, LabelEncoder, OrdinalEncoder\n",
    "from sklearn.compose import ColumnTransformer\n",
    "import category_encoders as ce\n",
    "\n",
    "# Model Selection\n",
    "from sklearn.linear_model import LogisticRegression\n",
    "from sklearn.tree import DecisionTreeClassifier\n",
    "from sklearn.model_selection import GridSearchCV,StratifiedKFold,train_test_split, cross_val_score\n",
    "from sklearn.metrics import classification_report, confusion_matrix\n",
    "from sklearn.neighbors import KNeighborsClassifier\n",
    "from sklearn.ensemble import RandomForestClassifier\n",
    "import xgboost as xgb\n",
    "from xgboost import XGBClassifier\n",
    "import lightgbm as lgb\n",
    "from sklearn.metrics import f1_score, accuracy_score, recall_score, precision_score\n",
    "from sklearn.metrics import roc_curve, roc_auc_score\n",
    "from sklearn.metrics import classification_report, RocCurveDisplay, ConfusionMatrixDisplay\n",
    "\n",
    "# Ignore Warning\n",
    "import sys\n",
    "import warnings\n",
    "if not sys.warnoptions:\n",
    "    warnings.simplefilter(\"ignore\")\n",
    "\n",
    "# Set max columns\n",
    "pd.set_option('display.max_columns', None)"
   ]
  },
  {
   "cell_type": "code",
   "execution_count": 2,
   "metadata": {},
   "outputs": [
    {
     "data": {
      "text/html": [
       "<div>\n",
       "<style scoped>\n",
       "    .dataframe tbody tr th:only-of-type {\n",
       "        vertical-align: middle;\n",
       "    }\n",
       "\n",
       "    .dataframe tbody tr th {\n",
       "        vertical-align: top;\n",
       "    }\n",
       "\n",
       "    .dataframe thead th {\n",
       "        text-align: right;\n",
       "    }\n",
       "</style>\n",
       "<table border=\"1\" class=\"dataframe\">\n",
       "  <thead>\n",
       "    <tr style=\"text-align: right;\">\n",
       "      <th></th>\n",
       "      <th>country</th>\n",
       "      <th>market_segment</th>\n",
       "      <th>previous_cancellations</th>\n",
       "      <th>booking_changes</th>\n",
       "      <th>deposit_type</th>\n",
       "      <th>days_in_waiting_list</th>\n",
       "      <th>customer_type</th>\n",
       "      <th>reserved_room_type</th>\n",
       "      <th>required_car_parking_spaces</th>\n",
       "      <th>total_of_special_requests</th>\n",
       "      <th>is_canceled</th>\n",
       "    </tr>\n",
       "  </thead>\n",
       "  <tbody>\n",
       "    <tr>\n",
       "      <th>0</th>\n",
       "      <td>IRL</td>\n",
       "      <td>Offline TA/TO</td>\n",
       "      <td>0</td>\n",
       "      <td>0</td>\n",
       "      <td>No Deposit</td>\n",
       "      <td>0</td>\n",
       "      <td>Transient-Party</td>\n",
       "      <td>A</td>\n",
       "      <td>0</td>\n",
       "      <td>0</td>\n",
       "      <td>0</td>\n",
       "    </tr>\n",
       "    <tr>\n",
       "      <th>1</th>\n",
       "      <td>FRA</td>\n",
       "      <td>Online TA</td>\n",
       "      <td>0</td>\n",
       "      <td>0</td>\n",
       "      <td>No Deposit</td>\n",
       "      <td>0</td>\n",
       "      <td>Transient</td>\n",
       "      <td>A</td>\n",
       "      <td>0</td>\n",
       "      <td>2</td>\n",
       "      <td>0</td>\n",
       "    </tr>\n",
       "    <tr>\n",
       "      <th>2</th>\n",
       "      <td>PRT</td>\n",
       "      <td>Online TA</td>\n",
       "      <td>0</td>\n",
       "      <td>1</td>\n",
       "      <td>No Deposit</td>\n",
       "      <td>0</td>\n",
       "      <td>Transient</td>\n",
       "      <td>A</td>\n",
       "      <td>0</td>\n",
       "      <td>2</td>\n",
       "      <td>0</td>\n",
       "    </tr>\n",
       "    <tr>\n",
       "      <th>3</th>\n",
       "      <td>NLD</td>\n",
       "      <td>Online TA</td>\n",
       "      <td>0</td>\n",
       "      <td>0</td>\n",
       "      <td>No Deposit</td>\n",
       "      <td>0</td>\n",
       "      <td>Transient</td>\n",
       "      <td>A</td>\n",
       "      <td>0</td>\n",
       "      <td>1</td>\n",
       "      <td>1</td>\n",
       "    </tr>\n",
       "    <tr>\n",
       "      <th>4</th>\n",
       "      <td>PRT</td>\n",
       "      <td>Online TA</td>\n",
       "      <td>0</td>\n",
       "      <td>2</td>\n",
       "      <td>No Deposit</td>\n",
       "      <td>0</td>\n",
       "      <td>Transient</td>\n",
       "      <td>A</td>\n",
       "      <td>0</td>\n",
       "      <td>2</td>\n",
       "      <td>0</td>\n",
       "    </tr>\n",
       "  </tbody>\n",
       "</table>\n",
       "</div>"
      ],
      "text/plain": [
       "  country market_segment  previous_cancellations  booking_changes  \\\n",
       "0     IRL  Offline TA/TO                       0                0   \n",
       "1     FRA      Online TA                       0                0   \n",
       "2     PRT      Online TA                       0                1   \n",
       "3     NLD      Online TA                       0                0   \n",
       "4     PRT      Online TA                       0                2   \n",
       "\n",
       "  deposit_type  days_in_waiting_list    customer_type reserved_room_type  \\\n",
       "0   No Deposit                     0  Transient-Party                  A   \n",
       "1   No Deposit                     0        Transient                  A   \n",
       "2   No Deposit                     0        Transient                  A   \n",
       "3   No Deposit                     0        Transient                  A   \n",
       "4   No Deposit                     0        Transient                  A   \n",
       "\n",
       "   required_car_parking_spaces  total_of_special_requests  is_canceled  \n",
       "0                            0                          0            0  \n",
       "1                            0                          2            0  \n",
       "2                            0                          2            0  \n",
       "3                            0                          1            1  \n",
       "4                            0                          2            0  "
      ]
     },
     "execution_count": 2,
     "metadata": {},
     "output_type": "execute_result"
    }
   ],
   "source": [
    "df = pd.read_csv('Y:\\TestPython\\Purwadhika\\DataFrame\\DataSet\\data_hotel_booking_demand.csv')\n",
    "df.head()"
   ]
  },
  {
   "cell_type": "markdown",
   "metadata": {},
   "source": [
    "Features\n",
    "- country: Country of origin.\n",
    "- market_segment: Market segment designation. \n",
    "- previous_cancellations: Number of previous bookings that were cancelled by the customer prior to the current booking.\n",
    "- booking_changes: Number of changes/amendments made to the booking from the moment the booking was entered on the PMS until the moment of check-in or cancellation.\n",
    "- deposit_type: Indication on if the customer made a deposit to guarantee the booking. \n",
    "- days_in_waiting_list: Number of days the booking was in the waiting list before it was confirmed to the customer.\n",
    "- customer_type: Type of booking.\n",
    "- reserved_room_type: Code of room type reserved. Code is presented instead of designation for anonymity reasons.\n",
    "- required_car_parking_space: Number of car parking spaces required by the customer.\n",
    "- total_of_special_request: Number of special requests made by the customer (e.g. twin bed or high floor).\n",
    "- is_canceled: Value indicating if the booking was canceled (1) or not (0).\n"
   ]
  },
  {
   "cell_type": "code",
   "execution_count": 3,
   "metadata": {},
   "outputs": [
    {
     "name": "stdout",
     "output_type": "stream",
     "text": [
      "<class 'pandas.core.frame.DataFrame'>\n",
      "RangeIndex: 83573 entries, 0 to 83572\n",
      "Data columns (total 11 columns):\n",
      " #   Column                       Non-Null Count  Dtype \n",
      "---  ------                       --------------  ----- \n",
      " 0   country                      83222 non-null  object\n",
      " 1   market_segment               83573 non-null  object\n",
      " 2   previous_cancellations       83573 non-null  int64 \n",
      " 3   booking_changes              83573 non-null  int64 \n",
      " 4   deposit_type                 83573 non-null  object\n",
      " 5   days_in_waiting_list         83573 non-null  int64 \n",
      " 6   customer_type                83573 non-null  object\n",
      " 7   reserved_room_type           83573 non-null  object\n",
      " 8   required_car_parking_spaces  83573 non-null  int64 \n",
      " 9   total_of_special_requests    83573 non-null  int64 \n",
      " 10  is_canceled                  83573 non-null  int64 \n",
      "dtypes: int64(6), object(5)\n",
      "memory usage: 7.0+ MB\n"
     ]
    }
   ],
   "source": [
    "df.info()"
   ]
  },
  {
   "cell_type": "code",
   "execution_count": 4,
   "metadata": {},
   "outputs": [
    {
     "data": {
      "text/plain": [
       "(83573, 11)"
      ]
     },
     "execution_count": 4,
     "metadata": {},
     "output_type": "execute_result"
    }
   ],
   "source": [
    "df.shape"
   ]
  },
  {
   "cell_type": "code",
   "execution_count": 5,
   "metadata": {},
   "outputs": [
    {
     "data": {
      "text/html": [
       "<div>\n",
       "<style scoped>\n",
       "    .dataframe tbody tr th:only-of-type {\n",
       "        vertical-align: middle;\n",
       "    }\n",
       "\n",
       "    .dataframe tbody tr th {\n",
       "        vertical-align: top;\n",
       "    }\n",
       "\n",
       "    .dataframe thead th {\n",
       "        text-align: right;\n",
       "    }\n",
       "</style>\n",
       "<table border=\"1\" class=\"dataframe\">\n",
       "  <thead>\n",
       "    <tr style=\"text-align: right;\">\n",
       "      <th></th>\n",
       "      <th>previous_cancellations</th>\n",
       "      <th>booking_changes</th>\n",
       "      <th>days_in_waiting_list</th>\n",
       "      <th>required_car_parking_spaces</th>\n",
       "      <th>total_of_special_requests</th>\n",
       "      <th>is_canceled</th>\n",
       "    </tr>\n",
       "  </thead>\n",
       "  <tbody>\n",
       "    <tr>\n",
       "      <th>count</th>\n",
       "      <td>83573.000000</td>\n",
       "      <td>83573.000000</td>\n",
       "      <td>83573.000000</td>\n",
       "      <td>83573.000000</td>\n",
       "      <td>83573.000000</td>\n",
       "      <td>83573.000000</td>\n",
       "    </tr>\n",
       "    <tr>\n",
       "      <th>mean</th>\n",
       "      <td>0.086798</td>\n",
       "      <td>0.220897</td>\n",
       "      <td>2.330561</td>\n",
       "      <td>0.062999</td>\n",
       "      <td>0.573211</td>\n",
       "      <td>0.368277</td>\n",
       "    </tr>\n",
       "    <tr>\n",
       "      <th>std</th>\n",
       "      <td>0.841011</td>\n",
       "      <td>0.648635</td>\n",
       "      <td>17.673051</td>\n",
       "      <td>0.246919</td>\n",
       "      <td>0.795163</td>\n",
       "      <td>0.482340</td>\n",
       "    </tr>\n",
       "    <tr>\n",
       "      <th>min</th>\n",
       "      <td>0.000000</td>\n",
       "      <td>0.000000</td>\n",
       "      <td>0.000000</td>\n",
       "      <td>0.000000</td>\n",
       "      <td>0.000000</td>\n",
       "      <td>0.000000</td>\n",
       "    </tr>\n",
       "    <tr>\n",
       "      <th>25%</th>\n",
       "      <td>0.000000</td>\n",
       "      <td>0.000000</td>\n",
       "      <td>0.000000</td>\n",
       "      <td>0.000000</td>\n",
       "      <td>0.000000</td>\n",
       "      <td>0.000000</td>\n",
       "    </tr>\n",
       "    <tr>\n",
       "      <th>50%</th>\n",
       "      <td>0.000000</td>\n",
       "      <td>0.000000</td>\n",
       "      <td>0.000000</td>\n",
       "      <td>0.000000</td>\n",
       "      <td>0.000000</td>\n",
       "      <td>0.000000</td>\n",
       "    </tr>\n",
       "    <tr>\n",
       "      <th>75%</th>\n",
       "      <td>0.000000</td>\n",
       "      <td>0.000000</td>\n",
       "      <td>0.000000</td>\n",
       "      <td>0.000000</td>\n",
       "      <td>1.000000</td>\n",
       "      <td>1.000000</td>\n",
       "    </tr>\n",
       "    <tr>\n",
       "      <th>max</th>\n",
       "      <td>26.000000</td>\n",
       "      <td>21.000000</td>\n",
       "      <td>391.000000</td>\n",
       "      <td>8.000000</td>\n",
       "      <td>5.000000</td>\n",
       "      <td>1.000000</td>\n",
       "    </tr>\n",
       "  </tbody>\n",
       "</table>\n",
       "</div>"
      ],
      "text/plain": [
       "       previous_cancellations  booking_changes  days_in_waiting_list  \\\n",
       "count            83573.000000     83573.000000          83573.000000   \n",
       "mean                 0.086798         0.220897              2.330561   \n",
       "std                  0.841011         0.648635             17.673051   \n",
       "min                  0.000000         0.000000              0.000000   \n",
       "25%                  0.000000         0.000000              0.000000   \n",
       "50%                  0.000000         0.000000              0.000000   \n",
       "75%                  0.000000         0.000000              0.000000   \n",
       "max                 26.000000        21.000000            391.000000   \n",
       "\n",
       "       required_car_parking_spaces  total_of_special_requests   is_canceled  \n",
       "count                 83573.000000               83573.000000  83573.000000  \n",
       "mean                      0.062999                   0.573211      0.368277  \n",
       "std                       0.246919                   0.795163      0.482340  \n",
       "min                       0.000000                   0.000000      0.000000  \n",
       "25%                       0.000000                   0.000000      0.000000  \n",
       "50%                       0.000000                   0.000000      0.000000  \n",
       "75%                       0.000000                   1.000000      1.000000  \n",
       "max                       8.000000                   5.000000      1.000000  "
      ]
     },
     "metadata": {},
     "output_type": "display_data"
    },
    {
     "data": {
      "text/html": [
       "<div>\n",
       "<style scoped>\n",
       "    .dataframe tbody tr th:only-of-type {\n",
       "        vertical-align: middle;\n",
       "    }\n",
       "\n",
       "    .dataframe tbody tr th {\n",
       "        vertical-align: top;\n",
       "    }\n",
       "\n",
       "    .dataframe thead th {\n",
       "        text-align: right;\n",
       "    }\n",
       "</style>\n",
       "<table border=\"1\" class=\"dataframe\">\n",
       "  <thead>\n",
       "    <tr style=\"text-align: right;\">\n",
       "      <th></th>\n",
       "      <th>country</th>\n",
       "      <th>market_segment</th>\n",
       "      <th>deposit_type</th>\n",
       "      <th>customer_type</th>\n",
       "      <th>reserved_room_type</th>\n",
       "    </tr>\n",
       "  </thead>\n",
       "  <tbody>\n",
       "    <tr>\n",
       "      <th>count</th>\n",
       "      <td>83222</td>\n",
       "      <td>83573</td>\n",
       "      <td>83573</td>\n",
       "      <td>83573</td>\n",
       "      <td>83573</td>\n",
       "    </tr>\n",
       "    <tr>\n",
       "      <th>unique</th>\n",
       "      <td>162</td>\n",
       "      <td>8</td>\n",
       "      <td>3</td>\n",
       "      <td>4</td>\n",
       "      <td>10</td>\n",
       "    </tr>\n",
       "    <tr>\n",
       "      <th>top</th>\n",
       "      <td>PRT</td>\n",
       "      <td>Online TA</td>\n",
       "      <td>No Deposit</td>\n",
       "      <td>Transient</td>\n",
       "      <td>A</td>\n",
       "    </tr>\n",
       "    <tr>\n",
       "      <th>freq</th>\n",
       "      <td>34097</td>\n",
       "      <td>39460</td>\n",
       "      <td>73352</td>\n",
       "      <td>62732</td>\n",
       "      <td>60041</td>\n",
       "    </tr>\n",
       "  </tbody>\n",
       "</table>\n",
       "</div>"
      ],
      "text/plain": [
       "       country market_segment deposit_type customer_type reserved_room_type\n",
       "count    83222          83573        83573         83573              83573\n",
       "unique     162              8            3             4                 10\n",
       "top        PRT      Online TA   No Deposit     Transient                  A\n",
       "freq     34097          39460        73352         62732              60041"
      ]
     },
     "metadata": {},
     "output_type": "display_data"
    }
   ],
   "source": [
    "display(df.describe(), df.describe(include='object'))"
   ]
  },
  {
   "cell_type": "code",
   "execution_count": 6,
   "metadata": {},
   "outputs": [
    {
     "data": {
      "text/plain": [
       "country    0.419992\n",
       "dtype: float64"
      ]
     },
     "execution_count": 6,
     "metadata": {},
     "output_type": "execute_result"
    }
   ],
   "source": [
    "missing_values_percentage = (df.isnull().sum() / len(df)) * 100\n",
    "missing_values_percentage[missing_values_percentage > 0]"
   ]
  },
  {
   "cell_type": "code",
   "execution_count": 7,
   "metadata": {},
   "outputs": [
    {
     "data": {
      "text/html": [
       "<div>\n",
       "<style scoped>\n",
       "    .dataframe tbody tr th:only-of-type {\n",
       "        vertical-align: middle;\n",
       "    }\n",
       "\n",
       "    .dataframe tbody tr th {\n",
       "        vertical-align: top;\n",
       "    }\n",
       "\n",
       "    .dataframe thead th {\n",
       "        text-align: right;\n",
       "    }\n",
       "</style>\n",
       "<table border=\"1\" class=\"dataframe\">\n",
       "  <thead>\n",
       "    <tr style=\"text-align: right;\">\n",
       "      <th></th>\n",
       "      <th>Column Name</th>\n",
       "      <th>Data Types</th>\n",
       "      <th>Number of Unique</th>\n",
       "      <th>Unique Sample</th>\n",
       "    </tr>\n",
       "  </thead>\n",
       "  <tbody>\n",
       "    <tr>\n",
       "      <th>0</th>\n",
       "      <td>country</td>\n",
       "      <td>object</td>\n",
       "      <td>162</td>\n",
       "      <td>[IRL, FRA, PRT, NLD, ESP, UMI, CN, LUX, BRA, BEL, JPN, DEU, ITA, CHE, GBR, AGO, SRB, COL, CHN, SWE, AUT, CIV, CZE, POL, USA, SGP, RUS, ROU, DNK, IND, MAR, PHL, ARG, ISL, ZAF, LBN, MOZ, TUR, BGD, MEX, CAF, NOR, FIN, UKR, EGY, ISR, nan, KOR, AZE, HUN, AUS, EST, CHL, SVN, PRY, ABW, ALB, LTU, ARE, HRV, SAU, NZL, LVA, ATA, KAZ, DZA, TWN, CRI, BIH, BGR, IRQ, OMN, VEN, IDN, GEO, MLT, IRN, BLR, URY, LBY, TUN, BEN, MYS, MWI, GRC, CYP, CPV, HKG, PRI, MKD, MUS, IMN, PAN, NGA, GLP, KHM, PER, QAT, SEN, MAC, ...]</td>\n",
       "    </tr>\n",
       "    <tr>\n",
       "      <th>1</th>\n",
       "      <td>market_segment</td>\n",
       "      <td>object</td>\n",
       "      <td>8</td>\n",
       "      <td>[Offline TA/TO, Online TA, Direct, Groups, Corporate, Complementary, Aviation, Undefined]</td>\n",
       "    </tr>\n",
       "    <tr>\n",
       "      <th>2</th>\n",
       "      <td>previous_cancellations</td>\n",
       "      <td>int64</td>\n",
       "      <td>15</td>\n",
       "      <td>[0, 1, 25, 2, 3, 11, 24, 13, 6, 26, 14, 4, 19, 5, 21]</td>\n",
       "    </tr>\n",
       "    <tr>\n",
       "      <th>3</th>\n",
       "      <td>booking_changes</td>\n",
       "      <td>int64</td>\n",
       "      <td>19</td>\n",
       "      <td>[0, 1, 2, 5, 3, 4, 6, 7, 9, 8, 17, 10, 13, 12, 14, 21, 16, 20, 15]</td>\n",
       "    </tr>\n",
       "    <tr>\n",
       "      <th>4</th>\n",
       "      <td>deposit_type</td>\n",
       "      <td>object</td>\n",
       "      <td>3</td>\n",
       "      <td>[No Deposit, Non Refund, Refundable]</td>\n",
       "    </tr>\n",
       "    <tr>\n",
       "      <th>5</th>\n",
       "      <td>days_in_waiting_list</td>\n",
       "      <td>int64</td>\n",
       "      <td>115</td>\n",
       "      <td>[0, 3, 39, 87, 77, 215, 97, 162, 46, 79, 4, 31, 122, 34, 57, 259, 50, 17, 32, 43, 75, 69, 44, 22, 113, 58, 38, 65, 48, 236, 176, 25, 108, 91, 19, 160, 68, 28, 63, 35, 42, 59, 24, 8, 183, 187, 21, 111, 56, 98, 101, 15, 16, 47, 93, 45, 14, 70, 10, 49, 178, 99, 60, 40, 85, 223, 6, 33, 391, 20, 1, 41, 147, 55, 80, 379, 150, 61, 330, 174, 107, 96, 18, 62, 13, 30, 120, 27, 207, 71, 2, 76, 125, 5, 9, 224, 53, 83, 84, 12, ...]</td>\n",
       "    </tr>\n",
       "    <tr>\n",
       "      <th>6</th>\n",
       "      <td>customer_type</td>\n",
       "      <td>object</td>\n",
       "      <td>4</td>\n",
       "      <td>[Transient-Party, Transient, Contract, Group]</td>\n",
       "    </tr>\n",
       "    <tr>\n",
       "      <th>7</th>\n",
       "      <td>reserved_room_type</td>\n",
       "      <td>object</td>\n",
       "      <td>10</td>\n",
       "      <td>[A, E, D, F, B, G, C, H, L, P]</td>\n",
       "    </tr>\n",
       "    <tr>\n",
       "      <th>8</th>\n",
       "      <td>required_car_parking_spaces</td>\n",
       "      <td>int64</td>\n",
       "      <td>5</td>\n",
       "      <td>[0, 1, 2, 8, 3]</td>\n",
       "    </tr>\n",
       "    <tr>\n",
       "      <th>9</th>\n",
       "      <td>total_of_special_requests</td>\n",
       "      <td>int64</td>\n",
       "      <td>6</td>\n",
       "      <td>[0, 2, 1, 3, 4, 5]</td>\n",
       "    </tr>\n",
       "    <tr>\n",
       "      <th>10</th>\n",
       "      <td>is_canceled</td>\n",
       "      <td>int64</td>\n",
       "      <td>2</td>\n",
       "      <td>[0, 1]</td>\n",
       "    </tr>\n",
       "  </tbody>\n",
       "</table>\n",
       "</div>"
      ],
      "text/plain": [
       "                    Column Name Data Types  Number of Unique  \\\n",
       "0                       country     object               162   \n",
       "1                market_segment     object                 8   \n",
       "2        previous_cancellations      int64                15   \n",
       "3               booking_changes      int64                19   \n",
       "4                  deposit_type     object                 3   \n",
       "5          days_in_waiting_list      int64               115   \n",
       "6                 customer_type     object                 4   \n",
       "7            reserved_room_type     object                10   \n",
       "8   required_car_parking_spaces      int64                 5   \n",
       "9     total_of_special_requests      int64                 6   \n",
       "10                  is_canceled      int64                 2   \n",
       "\n",
       "                                                                                                                                                                                                                                                                                                                                                                                                                                                                                                               Unique Sample  \n",
       "0   [IRL, FRA, PRT, NLD, ESP, UMI, CN, LUX, BRA, BEL, JPN, DEU, ITA, CHE, GBR, AGO, SRB, COL, CHN, SWE, AUT, CIV, CZE, POL, USA, SGP, RUS, ROU, DNK, IND, MAR, PHL, ARG, ISL, ZAF, LBN, MOZ, TUR, BGD, MEX, CAF, NOR, FIN, UKR, EGY, ISR, nan, KOR, AZE, HUN, AUS, EST, CHL, SVN, PRY, ABW, ALB, LTU, ARE, HRV, SAU, NZL, LVA, ATA, KAZ, DZA, TWN, CRI, BIH, BGR, IRQ, OMN, VEN, IDN, GEO, MLT, IRN, BLR, URY, LBY, TUN, BEN, MYS, MWI, GRC, CYP, CPV, HKG, PRI, MKD, MUS, IMN, PAN, NGA, GLP, KHM, PER, QAT, SEN, MAC, ...]  \n",
       "1                                                                                                                                                                                                                                                                                                                                                                                                                                  [Offline TA/TO, Online TA, Direct, Groups, Corporate, Complementary, Aviation, Undefined]  \n",
       "2                                                                                                                                                                                                                                                                                                                                                                                                                                                                      [0, 1, 25, 2, 3, 11, 24, 13, 6, 26, 14, 4, 19, 5, 21]  \n",
       "3                                                                                                                                                                                                                                                                                                                                                                                                                                                         [0, 1, 2, 5, 3, 4, 6, 7, 9, 8, 17, 10, 13, 12, 14, 21, 16, 20, 15]  \n",
       "4                                                                                                                                                                                                                                                                                                                                                                                                                                                                                       [No Deposit, Non Refund, Refundable]  \n",
       "5                                                                                     [0, 3, 39, 87, 77, 215, 97, 162, 46, 79, 4, 31, 122, 34, 57, 259, 50, 17, 32, 43, 75, 69, 44, 22, 113, 58, 38, 65, 48, 236, 176, 25, 108, 91, 19, 160, 68, 28, 63, 35, 42, 59, 24, 8, 183, 187, 21, 111, 56, 98, 101, 15, 16, 47, 93, 45, 14, 70, 10, 49, 178, 99, 60, 40, 85, 223, 6, 33, 391, 20, 1, 41, 147, 55, 80, 379, 150, 61, 330, 174, 107, 96, 18, 62, 13, 30, 120, 27, 207, 71, 2, 76, 125, 5, 9, 224, 53, 83, 84, 12, ...]  \n",
       "6                                                                                                                                                                                                                                                                                                                                                                                                                                                                              [Transient-Party, Transient, Contract, Group]  \n",
       "7                                                                                                                                                                                                                                                                                                                                                                                                                                                                                             [A, E, D, F, B, G, C, H, L, P]  \n",
       "8                                                                                                                                                                                                                                                                                                                                                                                                                                                                                                            [0, 1, 2, 8, 3]  \n",
       "9                                                                                                                                                                                                                                                                                                                                                                                                                                                                                                         [0, 2, 1, 3, 4, 5]  \n",
       "10                                                                                                                                                                                                                                                                                                                                                                                                                                                                                                                    [0, 1]  "
      ]
     },
     "execution_count": 7,
     "metadata": {},
     "output_type": "execute_result"
    }
   ],
   "source": [
    "pd.set_option('display.max_colwidth', None)\n",
    "# data uni di tiap kolom\n",
    "listItem = []\n",
    "for col in df.columns :\n",
    "    listItem.append( [col, df[col].dtypes, df[col].nunique(), df[col].unique()])\n",
    "\n",
    "tabel1Desc = pd.DataFrame(columns=['Column Name', 'Data Types', 'Number of Unique', 'Unique Sample'],\n",
    "                     data=listItem)\n",
    "tabel1Desc"
   ]
  },
  {
   "cell_type": "markdown",
   "metadata": {},
   "source": [
    "Conclusion : \n",
    " 1. Terdapat __83.573__ entries dalam dataset ini.\n",
    " 2. Terdapat 11 columns\n",
    " 3. Missing Value hanya terdapat pada columns _country_"
   ]
  },
  {
   "cell_type": "markdown",
   "metadata": {},
   "source": [
    "Feature (Numerical) Details :\n",
    " 1. __Previous Cancellation__ : Rata-rata tamu melakukan pembatalan ialah 0.08 kali. Range data dalam columns ini berawal dari 0 ke 26.\n",
    " 2. __booking changes__ : Booking mengalami perubahan dengan rata-rata 0.22 kali, dengan Range data dari 0 ke 21.\n",
    " 3. __day in waiting list__ : Rata-rata booking tertahan di waiting list sekitar 2.33 hari dengan minimal 0 sampai 391 hari.\n",
    " 4. __required_car_parking_spaces__ : Rata-rata tempat parkir mobil yang diminta oleh tamu ialah 0.06, dengan permintaan terbanyak ada di 8.\n",
    " 5. __total_of_special_requests__ : Rata-rata permintaan special dari tamu ialah 0.57, dengan permintaan terbanyak adaa pada 5.\n",
    " 6. __Is_Cancelled__ : Terdapt 2 unique values dengan 0 berarti tidak cancel dan 1 berarti canceled."
   ]
  },
  {
   "cell_type": "markdown",
   "metadata": {},
   "source": [
    "Feature (Categorical) Details :\n",
    " 1. __Country__ : Terdapat 162 unique conutry code, dengan kemunculan tertinggi ialah PRT dengan 34097 kemunculan.\n",
    " 2. __market_segment__ : Terdapat 8 unique values, dengan kemunculan terbanyak dengan 39460 kemunculan ialah Online TA.\n",
    " 3. __deposit_type__ : Terdapat 3 unique values dengan No Deposit menjadi values paling sering muncul sebanyak 73352.\n",
    " 4. __customer_type__ : Terdapat 4 kategori tamu, dengan kategori terbanyak ialah Transient dengan 62732\n",
    " 5. __reserved_room_type__ : Terdapat 10 tipe kamar dengan pesanan terbanyak ialah kamar tipe A dengan 60041 pesanan.\n"
   ]
  },
  {
   "cell_type": "markdown",
   "metadata": {},
   "source": [
    "## Data Preprocessing"
   ]
  },
  {
   "cell_type": "code",
   "execution_count": 8,
   "metadata": {},
   "outputs": [
    {
     "data": {
      "text/html": [
       "<div>\n",
       "<style scoped>\n",
       "    .dataframe tbody tr th:only-of-type {\n",
       "        vertical-align: middle;\n",
       "    }\n",
       "\n",
       "    .dataframe tbody tr th {\n",
       "        vertical-align: top;\n",
       "    }\n",
       "\n",
       "    .dataframe thead th {\n",
       "        text-align: right;\n",
       "    }\n",
       "</style>\n",
       "<table border=\"1\" class=\"dataframe\">\n",
       "  <thead>\n",
       "    <tr style=\"text-align: right;\">\n",
       "      <th></th>\n",
       "      <th>Unique_Categories</th>\n",
       "      <th>Missing_Values</th>\n",
       "    </tr>\n",
       "  </thead>\n",
       "  <tbody>\n",
       "    <tr>\n",
       "      <th>country</th>\n",
       "      <td>162</td>\n",
       "      <td>351</td>\n",
       "    </tr>\n",
       "    <tr>\n",
       "      <th>reserved_room_type</th>\n",
       "      <td>10</td>\n",
       "      <td>0</td>\n",
       "    </tr>\n",
       "    <tr>\n",
       "      <th>market_segment</th>\n",
       "      <td>8</td>\n",
       "      <td>0</td>\n",
       "    </tr>\n",
       "  </tbody>\n",
       "</table>\n",
       "</div>"
      ],
      "text/plain": [
       "                    Unique_Categories  Missing_Values\n",
       "country                           162             351\n",
       "reserved_room_type                 10               0\n",
       "market_segment                      8               0"
      ]
     },
     "execution_count": 8,
     "metadata": {},
     "output_type": "execute_result"
    }
   ],
   "source": [
    "high_cardinality_features = ['country', 'reserved_room_type', 'market_segment']\n",
    "unique_categories = df[high_cardinality_features].nunique()\n",
    "missing_values = df[high_cardinality_features].isnull().sum()\n",
    "\n",
    "# Combine the two series into a single dataframe\n",
    "high_cardinality_df = pd.DataFrame({'Unique_Categories': unique_categories, 'Missing_Values': missing_values})\n",
    "\n",
    "high_cardinality_df"
   ]
  },
  {
   "cell_type": "markdown",
   "metadata": {},
   "source": [
    "### Country Feature"
   ]
  },
  {
   "cell_type": "code",
   "execution_count": 9,
   "metadata": {},
   "outputs": [
    {
     "name": "stdout",
     "output_type": "stream",
     "text": [
      "Unique values in 'country': ['IRL' 'FRA' 'PRT' 'NLD' 'ESP' 'UMI' 'CN' 'LUX' 'BRA' 'BEL' 'JPN' 'DEU'\n",
      " 'ITA' 'CHE' 'GBR' 'AGO' 'SRB' 'COL' 'CHN' 'SWE' 'AUT' 'CIV' 'CZE' 'POL'\n",
      " 'USA' 'SGP' 'RUS' 'ROU' 'DNK' 'IND' 'MAR' 'PHL' 'ARG' 'ISL' 'ZAF' 'LBN'\n",
      " 'MOZ' 'TUR' 'BGD' 'MEX' 'CAF' 'NOR' 'FIN' 'UKR' 'EGY' 'ISR' nan 'KOR'\n",
      " 'AZE' 'HUN' 'AUS' 'EST' 'CHL' 'SVN' 'PRY' 'ABW' 'ALB' 'LTU' 'ARE' 'HRV'\n",
      " 'SAU' 'NZL' 'LVA' 'ATA' 'KAZ' 'DZA' 'TWN' 'CRI' 'BIH' 'BGR' 'IRQ' 'OMN'\n",
      " 'VEN' 'IDN' 'GEO' 'MLT' 'IRN' 'BLR' 'URY' 'LBY' 'TUN' 'BEN' 'MYS' 'MWI'\n",
      " 'GRC' 'CYP' 'CPV' 'HKG' 'PRI' 'MKD' 'MUS' 'IMN' 'PAN' 'NGA' 'GLP' 'KHM'\n",
      " 'PER' 'QAT' 'SEN' 'MAC' 'SVK' 'BHR' 'ECU' 'SYC' 'BOL' 'TJK' 'LCA' 'MDV'\n",
      " 'SYR' 'ZMB' 'LIE' 'THA' 'MNE' 'BRB' 'CMR' 'JEY' 'GTM' 'LKA' 'JOR' 'TZA'\n",
      " 'AND' 'ARM' 'GIB' 'VNM' 'PAK' 'JAM' 'DOM' 'KWT' 'LAO' 'RWA' 'FRO' 'GAB'\n",
      " 'ETH' 'CUB' 'COM' 'GNB' 'GGY' 'NIC' 'TGO' 'TMP' 'CYM' 'GHA' 'SLE' 'BWA'\n",
      " 'NCL' 'UZB' 'SUR' 'SDN' 'PLW' 'MLI' 'MMR' 'BFA' 'SLV' 'BDI' 'ZWE' 'UGA'\n",
      " 'DMA' 'VGB' 'KIR' 'KEN' 'MYT' 'KNA' 'AIA']\n",
      "Value counts for 'country':\n",
      "country\n",
      "PRT    34097\n",
      "GBR     8495\n",
      "FRA     7307\n",
      "ESP     5996\n",
      "DEU     5116\n",
      "       ...  \n",
      "ZMB        1\n",
      "LCA        1\n",
      "SYC        1\n",
      "GLP        1\n",
      "AIA        1\n",
      "Name: count, Length: 162, dtype: int64\n"
     ]
    }
   ],
   "source": [
    "# Get unique values in the 'country' column\n",
    "unique_values = df['country'].unique()\n",
    "print(f\"Unique values in 'country': {unique_values}\")\n",
    "\n",
    "# Get the counts of each unique value\n",
    "value_counts = df['country'].value_counts()\n",
    "print(\"Value counts for 'country':\")\n",
    "print(value_counts)\n"
   ]
  },
  {
   "cell_type": "code",
   "execution_count": 10,
   "metadata": {},
   "outputs": [
    {
     "name": "stdout",
     "output_type": "stream",
     "text": [
      "\n",
      "Mode of 'country' column: PRT\n"
     ]
    }
   ],
   "source": [
    "# Handling Missing Value with Mode\n",
    "mode_country = df['country'].mode()[0]\n",
    "print(f\"\\nMode of 'country' column: {mode_country}\")\n",
    "\n",
    "# Fill missing values with the mode\n",
    "df['country'].fillna(mode_country, inplace=True)"
   ]
  },
  {
   "cell_type": "code",
   "execution_count": 11,
   "metadata": {},
   "outputs": [],
   "source": [
    "threshold = 5000  # Example threshold\n",
    "value_counts = df['country'].value_counts()\n",
    "to_combine = value_counts[value_counts < threshold].index\n",
    "df['country'] = df['country'].replace(to_combine, 'Other')"
   ]
  },
  {
   "cell_type": "markdown",
   "metadata": {},
   "source": [
    "Conclusion :\n",
    " - Handling missing value dengan mengisi missing value tersebut dengan mode\n",
    " - Menyederhanakan category dengan menyisakan top 5 frequent country dan lainnya digabung menjadi 'other'"
   ]
  },
  {
   "cell_type": "markdown",
   "metadata": {},
   "source": [
    "### Reserved_room_type Feature"
   ]
  },
  {
   "cell_type": "code",
   "execution_count": 12,
   "metadata": {},
   "outputs": [
    {
     "name": "stdout",
     "output_type": "stream",
     "text": [
      "Unique values in 'reserved_room_type': ['A' 'E' 'D' 'F' 'B' 'G' 'C' 'H' 'L' 'P']\n",
      "Value counts for 'reserved_room_type':\n",
      "reserved_room_type\n",
      "A    60041\n",
      "D    13526\n",
      "E     4649\n",
      "F     2037\n",
      "G     1447\n",
      "B      787\n",
      "C      673\n",
      "H      401\n",
      "P        9\n",
      "L        3\n",
      "Name: count, dtype: int64\n"
     ]
    }
   ],
   "source": [
    "# Get unique values in the 'reserved_room_type' column\n",
    "unique_values = df['reserved_room_type'].unique()\n",
    "print(f\"Unique values in 'reserved_room_type': {unique_values}\")\n",
    "\n",
    "# Get the counts of each unique value\n",
    "value_counts = df['reserved_room_type'].value_counts()\n",
    "print(\"Value counts for 'reserved_room_type':\")\n",
    "print(value_counts)\n"
   ]
  },
  {
   "cell_type": "code",
   "execution_count": 13,
   "metadata": {},
   "outputs": [],
   "source": [
    "# Mengahapus Category P dan L\n",
    "\n",
    "df = df[~df['reserved_room_type'].isin(['P', 'L'])]"
   ]
  },
  {
   "cell_type": "markdown",
   "metadata": {},
   "source": [
    "Conclusion :\n",
    " - Menyederhanakan category value, dengan menghilangkan category P dan L due to observasi yang sangat kecil\n",
    " - dan juga agar model yang dibuat nanti tidak mengalamai noise dan menambah complexity yang dapat mengarah ke overfitting"
   ]
  },
  {
   "cell_type": "markdown",
   "metadata": {},
   "source": [
    "### Market_segment Feature"
   ]
  },
  {
   "cell_type": "code",
   "execution_count": 14,
   "metadata": {},
   "outputs": [
    {
     "name": "stdout",
     "output_type": "stream",
     "text": [
      "Unique values in 'market_segment': ['Offline TA/TO' 'Online TA' 'Direct' 'Groups' 'Corporate' 'Complementary'\n",
      " 'Aviation' 'Undefined']\n",
      "Value counts for 'market_segment':\n",
      "market_segment\n",
      "Online TA        39458\n",
      "Offline TA/TO    17024\n",
      "Groups           13721\n",
      "Direct            8895\n",
      "Corporate         3791\n",
      "Complementary      506\n",
      "Aviation           165\n",
      "Undefined            1\n",
      "Name: count, dtype: int64\n"
     ]
    }
   ],
   "source": [
    "# Get unique values in the 'market_segment' column\n",
    "unique_values = df['market_segment'].unique()\n",
    "print(f\"Unique values in 'market_segment': {unique_values}\")\n",
    "\n",
    "# Get the counts of each unique value\n",
    "value_counts = df['market_segment'].value_counts()\n",
    "print(\"Value counts for 'market_segment':\")\n",
    "print(value_counts)\n"
   ]
  },
  {
   "cell_type": "code",
   "execution_count": 15,
   "metadata": {},
   "outputs": [],
   "source": [
    "# Mengahapus Category Undefined\n",
    "\n",
    "df = df[~df['market_segment'].isin(['Undefined'])]"
   ]
  },
  {
   "cell_type": "markdown",
   "metadata": {},
   "source": [
    "Conclusion :\n",
    " - Menyederhanakan category value, dengan menghilangkan category Undefinef due to observasi yang sangat kecil yaitu 1\n",
    " - dan juga agar model yang dibuat nanti tidak mengalamai noise dan menambah complexity yang dapat mengarah ke overfitting"
   ]
  },
  {
   "cell_type": "markdown",
   "metadata": {},
   "source": [
    "## Data Preparation"
   ]
  },
  {
   "cell_type": "code",
   "execution_count": 16,
   "metadata": {},
   "outputs": [
    {
     "data": {
      "text/html": [
       "<div>\n",
       "<style scoped>\n",
       "    .dataframe tbody tr th:only-of-type {\n",
       "        vertical-align: middle;\n",
       "    }\n",
       "\n",
       "    .dataframe tbody tr th {\n",
       "        vertical-align: top;\n",
       "    }\n",
       "\n",
       "    .dataframe thead th {\n",
       "        text-align: right;\n",
       "    }\n",
       "</style>\n",
       "<table border=\"1\" class=\"dataframe\">\n",
       "  <thead>\n",
       "    <tr style=\"text-align: right;\">\n",
       "      <th></th>\n",
       "      <th>country</th>\n",
       "      <th>market_segment</th>\n",
       "      <th>previous_cancellations</th>\n",
       "      <th>booking_changes</th>\n",
       "      <th>deposit_type</th>\n",
       "      <th>days_in_waiting_list</th>\n",
       "      <th>customer_type</th>\n",
       "      <th>reserved_room_type</th>\n",
       "      <th>required_car_parking_spaces</th>\n",
       "      <th>total_of_special_requests</th>\n",
       "      <th>is_canceled</th>\n",
       "    </tr>\n",
       "  </thead>\n",
       "  <tbody>\n",
       "    <tr>\n",
       "      <th>0</th>\n",
       "      <td>Other</td>\n",
       "      <td>Offline TA/TO</td>\n",
       "      <td>0</td>\n",
       "      <td>0</td>\n",
       "      <td>No Deposit</td>\n",
       "      <td>0</td>\n",
       "      <td>Transient-Party</td>\n",
       "      <td>A</td>\n",
       "      <td>0</td>\n",
       "      <td>0</td>\n",
       "      <td>0</td>\n",
       "    </tr>\n",
       "    <tr>\n",
       "      <th>1</th>\n",
       "      <td>FRA</td>\n",
       "      <td>Online TA</td>\n",
       "      <td>0</td>\n",
       "      <td>0</td>\n",
       "      <td>No Deposit</td>\n",
       "      <td>0</td>\n",
       "      <td>Transient</td>\n",
       "      <td>A</td>\n",
       "      <td>0</td>\n",
       "      <td>2</td>\n",
       "      <td>0</td>\n",
       "    </tr>\n",
       "    <tr>\n",
       "      <th>2</th>\n",
       "      <td>PRT</td>\n",
       "      <td>Online TA</td>\n",
       "      <td>0</td>\n",
       "      <td>1</td>\n",
       "      <td>No Deposit</td>\n",
       "      <td>0</td>\n",
       "      <td>Transient</td>\n",
       "      <td>A</td>\n",
       "      <td>0</td>\n",
       "      <td>2</td>\n",
       "      <td>0</td>\n",
       "    </tr>\n",
       "    <tr>\n",
       "      <th>3</th>\n",
       "      <td>Other</td>\n",
       "      <td>Online TA</td>\n",
       "      <td>0</td>\n",
       "      <td>0</td>\n",
       "      <td>No Deposit</td>\n",
       "      <td>0</td>\n",
       "      <td>Transient</td>\n",
       "      <td>A</td>\n",
       "      <td>0</td>\n",
       "      <td>1</td>\n",
       "      <td>1</td>\n",
       "    </tr>\n",
       "    <tr>\n",
       "      <th>4</th>\n",
       "      <td>PRT</td>\n",
       "      <td>Online TA</td>\n",
       "      <td>0</td>\n",
       "      <td>2</td>\n",
       "      <td>No Deposit</td>\n",
       "      <td>0</td>\n",
       "      <td>Transient</td>\n",
       "      <td>A</td>\n",
       "      <td>0</td>\n",
       "      <td>2</td>\n",
       "      <td>0</td>\n",
       "    </tr>\n",
       "  </tbody>\n",
       "</table>\n",
       "</div>"
      ],
      "text/plain": [
       "  country market_segment  previous_cancellations  booking_changes  \\\n",
       "0   Other  Offline TA/TO                       0                0   \n",
       "1     FRA      Online TA                       0                0   \n",
       "2     PRT      Online TA                       0                1   \n",
       "3   Other      Online TA                       0                0   \n",
       "4     PRT      Online TA                       0                2   \n",
       "\n",
       "  deposit_type  days_in_waiting_list    customer_type reserved_room_type  \\\n",
       "0   No Deposit                     0  Transient-Party                  A   \n",
       "1   No Deposit                     0        Transient                  A   \n",
       "2   No Deposit                     0        Transient                  A   \n",
       "3   No Deposit                     0        Transient                  A   \n",
       "4   No Deposit                     0        Transient                  A   \n",
       "\n",
       "   required_car_parking_spaces  total_of_special_requests  is_canceled  \n",
       "0                            0                          0            0  \n",
       "1                            0                          2            0  \n",
       "2                            0                          2            0  \n",
       "3                            0                          1            1  \n",
       "4                            0                          2            0  "
      ]
     },
     "execution_count": 16,
     "metadata": {},
     "output_type": "execute_result"
    }
   ],
   "source": [
    "df.head()"
   ]
  },
  {
   "cell_type": "markdown",
   "metadata": {},
   "source": [
    "Tidak Perlu Encoding : \n",
    "    Data dalam features sudah memiliki nilai numerical, binary atau ordinal yang sudah berada dalam bentuk angka sehingga tidak perlu di encoding lagi.\n",
    "\n",
    "- __previous_cancellations__ : Memiliki nilai numerical\n",
    "- __booking_changes__ : Memiliki nilai Numerical\n",
    "- __days_in_waiting_list__ : Memiliki nilai Numerical\n",
    "- __required_car_parking_spaces__ : Memiliki nilai Numerical\n",
    "- __total_of_special_requests__ : Memiliki nilai Numerical\n",
    "- __is_canceled__ : Memiliki nilai binary dan merupakan target variable\n",
    "\n",
    "One-Hot Encoding :\n",
    "    Data dalam features dibawah memiliki nilai nominal dan harus dilakukan One-hot Encoding.\n",
    "\n",
    "- __country__ : Memiliki nilai nominal\n",
    "- __market_segment__ : Memiliki nilai nominal\n",
    "- __deposit_type__ : Memiliki nilai nominal\n",
    "- __customer_type__ : Memiliki nilai nominal\n",
    "- __reserved_room_type__ : Memiliki nilai nominal"
   ]
  },
  {
   "cell_type": "markdown",
   "metadata": {},
   "source": [
    "### Imbalanced Data"
   ]
  },
  {
   "cell_type": "code",
   "execution_count": 17,
   "metadata": {},
   "outputs": [
    {
     "data": {
      "image/png": "[encoded data removed]",
      "text/plain": [
       "<Figure size 800x500 with 1 Axes>"
      ]
     },
     "metadata": {},
     "output_type": "display_data"
    }
   ],
   "source": [
    "# Calculating the percentage of each class\n",
    "percentage = df['is_canceled'].value_counts(normalize=True) * 100\n",
    "\n",
    "# Plotting the percentage of each class\n",
    "plt.figure(figsize=(8, 5))\n",
    "ax = sns.barplot(x=percentage.index, y=percentage, palette=['darkturquoise', 'royalblue'])\n",
    "plt.title('Percentage of Cancellations and Non-Cancellations')\n",
    "plt.xlabel('Is Canceled')\n",
    "plt.ylabel('Percentage (%)')\n",
    "plt.xticks(ticks=[0, 1], labels=['Not Canceled', 'Canceled'])\n",
    "plt.yticks(ticks=range(0,80,10))\n",
    "\n",
    "# Displaying the percentage on the bars\n",
    "for i, p in enumerate(percentage):\n",
    "    ax.text(i, p + 0.5, f'{p:.2f}%', ha='center', va='bottom')\n",
    "\n",
    "plt.show()"
   ]
  },
  {
   "cell_type": "markdown",
   "metadata": {},
   "source": [
    "Setelah kita mengecek keseimbangan dari data target variable, bisa dilihat bahwasannya data ini slightly imbalanced, karena kategory 'canceled' masih mewakili lebih dari 30% data.\n",
    "Data dikatakan imbalanced apabila salah satu sangat mendominasi atau salah satu kategory hanya mewakili data dibawah 30%. \n",
    "Sehingga data ini hanya sedikit tidak seimbang, sehingga tidak perlu untuk di balancing."
   ]
  },
  {
   "cell_type": "markdown",
   "metadata": {},
   "source": [
    "### Modeling and Evaluation"
   ]
  },
  {
   "cell_type": "code",
   "execution_count": 18,
   "metadata": {},
   "outputs": [],
   "source": [
    "transformer = ColumnTransformer([\n",
    "    ('onehot', OneHotEncoder(drop='first'), ['country','market_segment', 'deposit_type', 'customer_type', 'reserved_room_type'])\n",
    "], remainder='passthrough')"
   ]
  },
  {
   "cell_type": "code",
   "execution_count": 19,
   "metadata": {},
   "outputs": [],
   "source": [
    "x = df.drop(columns=['is_canceled'])\n",
    "y = df['is_canceled']"
   ]
  },
  {
   "cell_type": "code",
   "execution_count": 20,
   "metadata": {},
   "outputs": [
    {
     "data": {
      "text/plain": [
       "is_canceled\n",
       "0    52793\n",
       "1    30767\n",
       "Name: count, dtype: int64"
      ]
     },
     "execution_count": 20,
     "metadata": {},
     "output_type": "execute_result"
    }
   ],
   "source": [
    "y.value_counts()"
   ]
  },
  {
   "cell_type": "code",
   "execution_count": 21,
   "metadata": {},
   "outputs": [],
   "source": [
    "x_train,x_test,y_train,y_test=train_test_split(x,y,stratify=y,test_size=0.2,random_state=2021)"
   ]
  },
  {
   "cell_type": "code",
   "execution_count": 22,
   "metadata": {},
   "outputs": [],
   "source": [
    "logreg = LogisticRegression()\n",
    "knn = KNeighborsClassifier()\n",
    "dt = DecisionTreeClassifier()\n",
    "rf = RandomForestClassifier()\n",
    "xgb = XGBClassifier()\n",
    "lgbm = lgb.LGBMClassifier()"
   ]
  },
  {
   "cell_type": "markdown",
   "metadata": {},
   "source": [
    "### Model Benchmarking : K-Fold"
   ]
  },
  {
   "cell_type": "code",
   "execution_count": 23,
   "metadata": {},
   "outputs": [
    {
     "name": "stdout",
     "output_type": "stream",
     "text": [
      "[LightGBM] [Info] Number of positive: 19691, number of negative: 33787\n",
      "[LightGBM] [Info] Auto-choosing row-wise multi-threading, the overhead of testing was 0.003359 seconds.\n",
      "You can set `force_row_wise=true` to remove the overhead.\n",
      "And if memory is not enough, you can set `force_col_wise=true`.\n",
      "[LightGBM] [Info] Total Bins 174\n",
      "[LightGBM] [Info] Number of data points in the train set: 53478, number of used features: 28\n",
      "[LightGBM] [Info] [binary:BoostFromScore]: pavg=0.368207 -> initscore=-0.539914\n",
      "[LightGBM] [Info] Start training from score -0.539914\n",
      "[LightGBM] [Info] Number of positive: 19691, number of negative: 33787\n",
      "[LightGBM] [Info] Auto-choosing row-wise multi-threading, the overhead of testing was 0.002602 seconds.\n",
      "You can set `force_row_wise=true` to remove the overhead.\n",
      "And if memory is not enough, you can set `force_col_wise=true`.\n",
      "[LightGBM] [Info] Total Bins 173\n",
      "[LightGBM] [Info] Number of data points in the train set: 53478, number of used features: 28\n",
      "[LightGBM] [Info] [binary:BoostFromScore]: pavg=0.368207 -> initscore=-0.539914\n",
      "[LightGBM] [Info] Start training from score -0.539914\n",
      "[LightGBM] [Info] Number of positive: 19691, number of negative: 33787\n",
      "[LightGBM] [Info] Auto-choosing row-wise multi-threading, the overhead of testing was 0.003255 seconds.\n",
      "You can set `force_row_wise=true` to remove the overhead.\n",
      "And if memory is not enough, you can set `force_col_wise=true`.\n",
      "[LightGBM] [Info] Total Bins 172\n",
      "[LightGBM] [Info] Number of data points in the train set: 53478, number of used features: 28\n",
      "[LightGBM] [Info] [binary:BoostFromScore]: pavg=0.368207 -> initscore=-0.539914\n",
      "[LightGBM] [Info] Start training from score -0.539914\n",
      "[LightGBM] [Info] Number of positive: 19691, number of negative: 33788\n",
      "[LightGBM] [Info] Auto-choosing row-wise multi-threading, the overhead of testing was 0.002708 seconds.\n",
      "You can set `force_row_wise=true` to remove the overhead.\n",
      "And if memory is not enough, you can set `force_col_wise=true`.\n",
      "[LightGBM] [Info] Total Bins 173\n",
      "[LightGBM] [Info] Number of data points in the train set: 53479, number of used features: 28\n",
      "[LightGBM] [Info] [binary:BoostFromScore]: pavg=0.368201 -> initscore=-0.539944\n",
      "[LightGBM] [Info] Start training from score -0.539944\n",
      "[LightGBM] [Info] Number of positive: 19692, number of negative: 33787\n",
      "[LightGBM] [Info] Auto-choosing row-wise multi-threading, the overhead of testing was 0.003374 seconds.\n",
      "You can set `force_row_wise=true` to remove the overhead.\n",
      "And if memory is not enough, you can set `force_col_wise=true`.\n",
      "[LightGBM] [Info] Total Bins 171\n",
      "[LightGBM] [Info] Number of data points in the train set: 53479, number of used features: 28\n",
      "[LightGBM] [Info] [binary:BoostFromScore]: pavg=0.368219 -> initscore=-0.539864\n",
      "[LightGBM] [Info] Start training from score -0.539864\n"
     ]
    },
    {
     "data": {
      "text/html": [
       "<div>\n",
       "<style scoped>\n",
       "    .dataframe tbody tr th:only-of-type {\n",
       "        vertical-align: middle;\n",
       "    }\n",
       "\n",
       "    .dataframe tbody tr th {\n",
       "        vertical-align: top;\n",
       "    }\n",
       "\n",
       "    .dataframe thead th {\n",
       "        text-align: right;\n",
       "    }\n",
       "</style>\n",
       "<table border=\"1\" class=\"dataframe\">\n",
       "  <thead>\n",
       "    <tr style=\"text-align: right;\">\n",
       "      <th></th>\n",
       "      <th>mean roc_auc</th>\n",
       "      <th>sdev</th>\n",
       "    </tr>\n",
       "    <tr>\n",
       "      <th>model</th>\n",
       "      <th></th>\n",
       "      <th></th>\n",
       "    </tr>\n",
       "  </thead>\n",
       "  <tbody>\n",
       "    <tr>\n",
       "      <th>LightGBM</th>\n",
       "      <td>0.891174</td>\n",
       "      <td>0.001292</td>\n",
       "    </tr>\n",
       "    <tr>\n",
       "      <th>XGBoost</th>\n",
       "      <td>0.890999</td>\n",
       "      <td>0.001589</td>\n",
       "    </tr>\n",
       "    <tr>\n",
       "      <th>Random Forest</th>\n",
       "      <td>0.887410</td>\n",
       "      <td>0.001109</td>\n",
       "    </tr>\n",
       "    <tr>\n",
       "      <th>Decision Tree</th>\n",
       "      <td>0.883138</td>\n",
       "      <td>0.001085</td>\n",
       "    </tr>\n",
       "    <tr>\n",
       "      <th>Logistic Regression</th>\n",
       "      <td>0.860861</td>\n",
       "      <td>0.002057</td>\n",
       "    </tr>\n",
       "    <tr>\n",
       "      <th>KNN</th>\n",
       "      <td>0.850864</td>\n",
       "      <td>0.002976</td>\n",
       "    </tr>\n",
       "  </tbody>\n",
       "</table>\n",
       "</div>"
      ],
      "text/plain": [
       "                     mean roc_auc      sdev\n",
       "model                                      \n",
       "LightGBM                 0.891174  0.001292\n",
       "XGBoost                  0.890999  0.001589\n",
       "Random Forest            0.887410  0.001109\n",
       "Decision Tree            0.883138  0.001085\n",
       "Logistic Regression      0.860861  0.002057\n",
       "KNN                      0.850864  0.002976"
      ]
     },
     "execution_count": 23,
     "metadata": {},
     "output_type": "execute_result"
    }
   ],
   "source": [
    "models = [logreg,knn,dt,rf,xgb,lgbm]\n",
    "score=[]\n",
    "rata=[]\n",
    "std=[]\n",
    "\n",
    "for i in models:\n",
    "    skfold=StratifiedKFold(n_splits=5)\n",
    "    estimator=Pipeline([\n",
    "        ('preprocess',transformer),\n",
    "        ('model',i)])\n",
    "    model_cv=cross_val_score(estimator,x_train,y_train,cv=skfold,scoring='roc_auc')\n",
    "    score.append(model_cv)\n",
    "    rata.append(model_cv.mean())\n",
    "    std.append(model_cv.std())\n",
    "    \n",
    "pd.DataFrame({'model':['Logistic Regression', 'KNN', 'Decision Tree', 'Random Forest', 'XGBoost', 'LightGBM'],'mean roc_auc':rata,'sdev':std}).set_index('model').sort_values(by='mean roc_auc',ascending=False)"
   ]
  },
  {
   "cell_type": "markdown",
   "metadata": {},
   "source": [
    "Berdasarkan hasil dari model benchmarking di atas. LightGBM merupakan model terbaik untuk roc_aucnya yang menandakan performa yang sangat baik dan juga memiliki sdev yang rendah yang berarti model memberikan performa yang konsisten. \n",
    "Tetapi XGBoost juga memiliki nilai mean roc_auc dan sdev yang mirip dengan LGBM, sehingga keduanya masih memiliki nilai yang sama."
   ]
  },
  {
   "cell_type": "markdown",
   "metadata": {},
   "source": [
    "### Model Benchmarking : Test Data"
   ]
  },
  {
   "cell_type": "code",
   "execution_count": 24,
   "metadata": {},
   "outputs": [
    {
     "name": "stdout",
     "output_type": "stream",
     "text": [
      "Logistic Regression \n",
      "               precision    recall  f1-score   support\n",
      "\n",
      "           0       0.77      0.92      0.84     10559\n",
      "           1       0.80      0.54      0.64      6153\n",
      "\n",
      "    accuracy                           0.78     16712\n",
      "   macro avg       0.79      0.73      0.74     16712\n",
      "weighted avg       0.78      0.78      0.77     16712\n",
      "\n",
      "KNN \n",
      "               precision    recall  f1-score   support\n",
      "\n",
      "           0       0.77      0.85      0.81     10559\n",
      "           1       0.69      0.57      0.63      6153\n",
      "\n",
      "    accuracy                           0.75     16712\n",
      "   macro avg       0.73      0.71      0.72     16712\n",
      "weighted avg       0.74      0.75      0.74     16712\n",
      "\n",
      "Decision Tree \n",
      "               precision    recall  f1-score   support\n",
      "\n",
      "           0       0.82      0.89      0.85     10559\n",
      "           1       0.77      0.68      0.72      6153\n",
      "\n",
      "    accuracy                           0.81     16712\n",
      "   macro avg       0.80      0.78      0.79     16712\n",
      "weighted avg       0.81      0.81      0.80     16712\n",
      "\n",
      "Random Forest \n",
      "               precision    recall  f1-score   support\n",
      "\n",
      "           0       0.83      0.88      0.85     10559\n",
      "           1       0.77      0.68      0.72      6153\n",
      "\n",
      "    accuracy                           0.81     16712\n",
      "   macro avg       0.80      0.78      0.79     16712\n",
      "weighted avg       0.81      0.81      0.81     16712\n",
      "\n",
      "XGBoost \n",
      "               precision    recall  f1-score   support\n",
      "\n",
      "           0       0.83      0.88      0.86     10559\n",
      "           1       0.77      0.70      0.73      6153\n",
      "\n",
      "    accuracy                           0.81     16712\n",
      "   macro avg       0.80      0.79      0.79     16712\n",
      "weighted avg       0.81      0.81      0.81     16712\n",
      "\n",
      "[LightGBM] [Info] Number of positive: 24614, number of negative: 42234\n",
      "[LightGBM] [Info] Auto-choosing row-wise multi-threading, the overhead of testing was 0.004552 seconds.\n",
      "You can set `force_row_wise=true` to remove the overhead.\n",
      "And if memory is not enough, you can set `force_col_wise=true`.\n",
      "[LightGBM] [Info] Total Bins 176\n",
      "[LightGBM] [Info] Number of data points in the train set: 66848, number of used features: 28\n",
      "[LightGBM] [Info] [binary:BoostFromScore]: pavg=0.368208 -> initscore=-0.539910\n",
      "[LightGBM] [Info] Start training from score -0.539910\n",
      "LightGBM \n",
      "               precision    recall  f1-score   support\n",
      "\n",
      "           0       0.83      0.88      0.86     10559\n",
      "           1       0.77      0.69      0.73      6153\n",
      "\n",
      "    accuracy                           0.81     16712\n",
      "   macro avg       0.80      0.79      0.79     16712\n",
      "weighted avg       0.81      0.81      0.81     16712\n",
      "\n"
     ]
    },
    {
     "data": {
      "text/html": [
       "<div>\n",
       "<style scoped>\n",
       "    .dataframe tbody tr th:only-of-type {\n",
       "        vertical-align: middle;\n",
       "    }\n",
       "\n",
       "    .dataframe tbody tr th {\n",
       "        vertical-align: top;\n",
       "    }\n",
       "\n",
       "    .dataframe thead th {\n",
       "        text-align: right;\n",
       "    }\n",
       "</style>\n",
       "<table border=\"1\" class=\"dataframe\">\n",
       "  <thead>\n",
       "    <tr style=\"text-align: right;\">\n",
       "      <th></th>\n",
       "      <th>roc_auc score</th>\n",
       "    </tr>\n",
       "    <tr>\n",
       "      <th>model</th>\n",
       "      <th></th>\n",
       "    </tr>\n",
       "  </thead>\n",
       "  <tbody>\n",
       "    <tr>\n",
       "      <th>LightGBM</th>\n",
       "      <td>0.890362</td>\n",
       "    </tr>\n",
       "    <tr>\n",
       "      <th>XGBoost</th>\n",
       "      <td>0.890336</td>\n",
       "    </tr>\n",
       "    <tr>\n",
       "      <th>Random Forest</th>\n",
       "      <td>0.885781</td>\n",
       "    </tr>\n",
       "    <tr>\n",
       "      <th>Decision Tree</th>\n",
       "      <td>0.881934</td>\n",
       "    </tr>\n",
       "    <tr>\n",
       "      <th>Logistic Regression</th>\n",
       "      <td>0.859779</td>\n",
       "    </tr>\n",
       "    <tr>\n",
       "      <th>KNN</th>\n",
       "      <td>0.826070</td>\n",
       "    </tr>\n",
       "  </tbody>\n",
       "</table>\n",
       "</div>"
      ],
      "text/plain": [
       "                     roc_auc score\n",
       "model                             \n",
       "LightGBM                  0.890362\n",
       "XGBoost                   0.890336\n",
       "Random Forest             0.885781\n",
       "Decision Tree             0.881934\n",
       "Logistic Regression       0.859779\n",
       "KNN                       0.826070"
      ]
     },
     "execution_count": 24,
     "metadata": {},
     "output_type": "execute_result"
    }
   ],
   "source": [
    "models = [logreg,knn,dt,rf,xgb,lgbm]\n",
    "score_roc_auc = []\n",
    "\n",
    "def y_pred_func(i):\n",
    "    estimator=Pipeline([\n",
    "        ('preprocess',transformer),\n",
    "        ('model',i)])\n",
    "    x_train,x_test\n",
    "    \n",
    "    estimator.fit(x_train,y_train)\n",
    "    return(estimator,estimator.predict(x_test),x_test)\n",
    "\n",
    "for i,j in zip(models, ['Logistic Regression', 'KNN', 'Decision Tree', 'Random Forest', 'XGBoost','LightGBM']):\n",
    "    estimator,y_pred,x_test = y_pred_func(i)\n",
    "    y_predict_proba = estimator.predict_proba(x_test)[:,1]\n",
    "    score_roc_auc.append(roc_auc_score(y_test,y_predict_proba))\n",
    "    print(j,'\\n', classification_report(y_test,y_pred))\n",
    "    \n",
    "pd.DataFrame({'model':['Logistic Regression', 'KNN', 'Decision Tree', 'Random Forest', 'XGBoost','LightGBM'],\n",
    "             'roc_auc score':score_roc_auc}).set_index('model').sort_values(by='roc_auc score',ascending=False)"
   ]
  },
  {
   "cell_type": "markdown",
   "metadata": {},
   "source": [
    "Pada test data ini, LightGBM kembali menjadi model yang paling bagus performanya. Dan memiliki selisih yang sangat kecil dengan XGBoost."
   ]
  },
  {
   "cell_type": "markdown",
   "metadata": {},
   "source": [
    "## XGBoost "
   ]
  },
  {
   "cell_type": "markdown",
   "metadata": {},
   "source": [
    "Bussines Problem Understanding\n",
    "\n",
    "Dalam membuat sebuah predictive model untuk memprediksi masalah pada booking hotel, target variable yang digunakan ialah 'is_canceled'\n",
    " - 0 : Reservasi tidak dibatalkan\n",
    " - 1 : Reservasi dibatalkan\n",
    "\n",
    "Dan juga dalam melakukan prediksi, model tidak luput dalam melakukan kesalahan\n",
    " - False Positive : Model memprediksi reservasi dibatalkan padahal sebenarnya tidak\n",
    " - False Negative : Model memprediksi reservasi tidak dibatalkan padahal sebenarnya dibatalkan\n",
    "Kedua, kesalahan prediksi ini akan sangat berpengaruh terhadap cost dari hotel tersebut.\n",
    "\n",
    "Terdapat 3 pendekatan matric yang bisa digunakan, \n",
    "1. Recall : Dengan memaksimalkan nilai recall untuk class (1) akan sangat membantu model untuk meminimalisir false negative. False negative memiliki pengaruh yang sangat besar bagi hotel karena, hotel bisa saja kehilangan banyak tamu karena kamar sudah penuh semuanya, padahal sebenarnya ada banyak kamar kosong karena adanya pembatalan reservasi. \n",
    "2. Precision : Dengan memaksimalkan nilai precision untuk class (1) akan sangat membantu model untuk menimalisir false positive, dimana model memprediksi adanya pembatalan reservasi padahal tidak ada. Ini dapat menimbulkan banyak masalah dengan tamu miss komunikasi dan ketidakpuasan tamu terhadap pelayanan hotel.\n",
    "3. F1-Score : matric ini merupakan matric yang sangat sempurna untuk project ini karena ia penyeimbang diantara precision dan recall, yang merupakan matric yang sangat dibutuhkan. Lebih detail lagi, melihat F1-Score khusus untuk class (1) akan sangat berguna untuk mendapatkan conclusi yang maksimal dalam project ini. \n",
    "\n",
    "\n"
   ]
  },
  {
   "cell_type": "code",
   "execution_count": 36,
   "metadata": {},
   "outputs": [
    {
     "name": "stdout",
     "output_type": "stream",
     "text": [
      "<class 'pandas.core.frame.DataFrame'>\n",
      "Index: 83560 entries, 0 to 83572\n",
      "Data columns (total 29 columns):\n",
      " #   Column                         Non-Null Count  Dtype\n",
      "---  ------                         --------------  -----\n",
      " 0   previous_cancellations         83560 non-null  int64\n",
      " 1   booking_changes                83560 non-null  int64\n",
      " 2   days_in_waiting_list           83560 non-null  int64\n",
      " 3   required_car_parking_spaces    83560 non-null  int64\n",
      " 4   total_of_special_requests      83560 non-null  int64\n",
      " 5   is_canceled                    83560 non-null  int64\n",
      " 6   country_ESP                    83560 non-null  bool \n",
      " 7   country_FRA                    83560 non-null  bool \n",
      " 8   country_GBR                    83560 non-null  bool \n",
      " 9   country_Other                  83560 non-null  bool \n",
      " 10  country_PRT                    83560 non-null  bool \n",
      " 11  market_segment_Complementary   83560 non-null  bool \n",
      " 12  market_segment_Corporate       83560 non-null  bool \n",
      " 13  market_segment_Direct          83560 non-null  bool \n",
      " 14  market_segment_Groups          83560 non-null  bool \n",
      " 15  market_segment_Offline TA/TO   83560 non-null  bool \n",
      " 16  market_segment_Online TA       83560 non-null  bool \n",
      " 17  deposit_type_Non Refund        83560 non-null  bool \n",
      " 18  deposit_type_Refundable        83560 non-null  bool \n",
      " 19  customer_type_Group            83560 non-null  bool \n",
      " 20  customer_type_Transient        83560 non-null  bool \n",
      " 21  customer_type_Transient-Party  83560 non-null  bool \n",
      " 22  reserved_room_type_B           83560 non-null  bool \n",
      " 23  reserved_room_type_C           83560 non-null  bool \n",
      " 24  reserved_room_type_D           83560 non-null  bool \n",
      " 25  reserved_room_type_E           83560 non-null  bool \n",
      " 26  reserved_room_type_F           83560 non-null  bool \n",
      " 27  reserved_room_type_G           83560 non-null  bool \n",
      " 28  reserved_room_type_H           83560 non-null  bool \n",
      "dtypes: bool(23), int64(6)\n",
      "memory usage: 6.3 MB\n"
     ]
    }
   ],
   "source": [
    "# One-hot encode the specified columns\n",
    "one_hot_cols = ['country','market_segment', 'deposit_type', 'customer_type', 'reserved_room_type']\n",
    "df = pd.get_dummies(df, columns=one_hot_cols, drop_first=True)\n",
    "\n",
    "df.info()"
   ]
  },
  {
   "cell_type": "markdown",
   "metadata": {},
   "source": [
    "### Data Splitting"
   ]
  },
  {
   "cell_type": "code",
   "execution_count": 43,
   "metadata": {},
   "outputs": [],
   "source": [
    "X = df.drop('is_canceled', axis=1)\n",
    "y = df['is_canceled'] "
   ]
  },
  {
   "cell_type": "code",
   "execution_count": 58,
   "metadata": {},
   "outputs": [],
   "source": [
    "X_train, X_test, y_train, y_test = train_test_split(X,y,stratify=y,test_size=0.2,random_state=2021)"
   ]
  },
  {
   "cell_type": "markdown",
   "metadata": {},
   "source": [
    "### Function"
   ]
  },
  {
   "cell_type": "code",
   "execution_count": 59,
   "metadata": {},
   "outputs": [],
   "source": [
    "def tune_clf_hyperparameters(clf, param_grid, X_train, y_train, scoring='f1', n_splits=5):\n",
    "    '''\n",
    "    This function optimizes the hyperparameters for a classifier by searching over a specified hyperparameter grid. \n",
    "    It uses GridSearchCV and cross-validation (StratifiedKFold) to evaluate different combinations of hyperparameters. \n",
    "    The combination with the highest F1-score for class 1 (canceled bookings) is selected as the default scoring metric. \n",
    "    The function returns the classifier with the optimal hyperparameters.\n",
    "    '''\n",
    "    \n",
    "    # Create the cross-validation object using StratifiedKFold to ensure the class distribution is the same across all the folds\n",
    "    cv = StratifiedKFold(n_splits=n_splits, shuffle=True, random_state=2021)\n",
    "\n",
    "    # Create the GridSearchCV object\n",
    "    clf_grid = GridSearchCV(clf, param_grid, cv=cv, scoring=scoring, n_jobs=-1)\n",
    "\n",
    "    # Fit the GridSearchCV object to the training data\n",
    "    clf_grid.fit(X_train, y_train)\n",
    "\n",
    "    # Get the best hyperparameters\n",
    "    best_hyperparameters = clf_grid.best_params_\n",
    "    \n",
    "    # Return best_estimator_ attribute which gives us the best model that has been fitted to the training data\n",
    "    return clf_grid.best_estimator_, best_hyperparameters"
   ]
  },
  {
   "cell_type": "code",
   "execution_count": 60,
   "metadata": {},
   "outputs": [],
   "source": [
    "def model_evaluation(clf, X_train, X_test, y_train, y_test, model_name):\n",
    "    '''\n",
    "    This function provides a complete report of the model's performance including classification reports, \n",
    "    confusion matrix and ROC curve.\n",
    "    '''\n",
    "    sns.set(font_scale=1.2)\n",
    "    \n",
    "    # Generate classification report for training set\n",
    "    y_pred_train = clf.predict(X_train)\n",
    "    print(\"\\n\\t  Classification report for training set\")\n",
    "    print(\"-\"*55)\n",
    "    print(classification_report(y_train, y_pred_train))\n",
    "\n",
    "    # Generate classification report for test set\n",
    "    y_pred_test = clf.predict(X_test)\n",
    "    print(\"\\n\\t   Classification report for test set\")\n",
    "    print(\"-\"*55)\n",
    "    print(classification_report(y_test, y_pred_test))\n",
    "    \n",
    "    # Create figure and subplots \n",
    "    fig, (ax1, ax2, ax3) = plt.subplots(1, 3, figsize=(15, 5), dpi=100, gridspec_kw={'width_ratios': [2, 2, 1]})\n",
    "    \n",
    "    # Define a colormap\n",
    "    royalblue = LinearSegmentedColormap.from_list('royalblue', [(0, (1,1,1)), (1, (0.25,0.41,0.88))])\n",
    "    royalblue_r = royalblue.reversed()\n",
    "\n",
    "    # Plot confusion matrix for test set\n",
    "    ConfusionMatrixDisplay.from_estimator(clf, X_test, y_test, colorbar=False, cmap=royalblue_r, ax=ax1)\n",
    "    ax1.set_title('Confusion Matrix for Test Data')                                     \n",
    "    ax1.grid(False)\n",
    "    \n",
    "    # Plot ROC curve for test data and display AUC score \n",
    "    RocCurveDisplay.from_estimator(clf, X_test, y_test, ax=ax2)\n",
    "    ax2.set_xlabel('False Positive Rate')\n",
    "    ax2.set_ylabel('True Positive Rate')\n",
    "    ax2.set_title('ROC Curve for Test Data (Positive label: 1)')\n",
    "    \n",
    "    # Report results for the class specified by positive label\n",
    "    result = metrics_calculator(clf, X_test, y_test, model_name)\n",
    "    table = ax3.table(cellText=result.values, colLabels=result.columns, rowLabels=result.index, loc='center')\n",
    "    table.scale(0.6, 2)\n",
    "    table.set_fontsize(12)\n",
    "    ax3.axis('tight')\n",
    "    ax3.axis('off')\n",
    "    # Modify color \n",
    "    for key, cell in table.get_celld().items():\n",
    "        if key[0] == 0:\n",
    "            cell.set_color('royalblue')\n",
    "    plt.tight_layout()\n",
    "    plt.show() "
   ]
  },
  {
   "cell_type": "code",
   "execution_count": 61,
   "metadata": {},
   "outputs": [],
   "source": [
    "def metrics_calculator(clf, X_test, y_test, model_name):\n",
    "    '''\n",
    "    This function calculates all desired performance metrics for a given model on test data.\n",
    "    The metrics are calculated specifically for class 1.\n",
    "    '''\n",
    "    y_pred = clf.predict(X_test)\n",
    "    result = pd.DataFrame(data=[accuracy_score(y_test, y_pred),\n",
    "                                precision_score(y_test, y_pred, pos_label=1),\n",
    "                                recall_score(y_test, y_pred, pos_label=1),\n",
    "                                f1_score(y_test, y_pred, pos_label=1),\n",
    "                                roc_auc_score(y_test, clf.predict_proba(X_test)[:,1])],\n",
    "                          index=['Accuracy','Precision (Class 1)','Recall (Class 1)','F1-score (Class 1)','AUC (Class 1)'],\n",
    "                          columns = [model_name])\n",
    "    \n",
    "    result = (result * 100).round(2).astype(str) + '%'                            \n",
    "    return result"
   ]
  },
  {
   "cell_type": "markdown",
   "metadata": {},
   "source": [
    "### Base Model XGBoost"
   ]
  },
  {
   "cell_type": "code",
   "execution_count": 62,
   "metadata": {},
   "outputs": [],
   "source": [
    "xgb_base = xgb.XGBClassifier(use_label_encoder=False, eval_metric='logloss', random_state=2021)"
   ]
  },
  {
   "cell_type": "markdown",
   "metadata": {},
   "source": [
    "### Hyperparameter Tuning"
   ]
  },
  {
   "cell_type": "code",
   "execution_count": 63,
   "metadata": {},
   "outputs": [],
   "source": [
    "# Define the parameter grid\n",
    "param_grid_xgb = {\n",
    "    'n_estimators': [250, 350],\n",
    "    'learning_rate': [0.01, 0.1],\n",
    "    'max_depth': [7, 8],\n",
    "    'subsample': [0.7, 0.8],\n",
    "    'colsample_bytree': [0.8, 0.9],\n",
    "    'scale_pos_weight': [1, (y_train == 0).sum() / (y_train == 1).sum()]\n",
    "}"
   ]
  },
  {
   "cell_type": "code",
   "execution_count": 64,
   "metadata": {},
   "outputs": [],
   "source": [
    "# Call the function for hyperparameter tuning\n",
    "best_xgb, best_xgb_hyperparams = tune_clf_hyperparameters(xgb_base, param_grid_xgb, X_train, y_train)"
   ]
  },
  {
   "cell_type": "code",
   "execution_count": 65,
   "metadata": {},
   "outputs": [
    {
     "name": "stdout",
     "output_type": "stream",
     "text": [
      "XGBoost Optimal Hyperparameters: \n",
      " {'colsample_bytree': 0.8, 'learning_rate': 0.1, 'max_depth': 7, 'n_estimators': 250, 'scale_pos_weight': 1.7158527667181278, 'subsample': 0.8}\n"
     ]
    }
   ],
   "source": [
    "print('XGBoost Optimal Hyperparameters: \\n', best_xgb_hyperparams)"
   ]
  },
  {
   "cell_type": "markdown",
   "metadata": {},
   "source": [
    "- Colsample_bytree : Value 0.8 menandakan bahwa 80% dari features akan di sample secara acak untuk setiap tree.\n",
    "- learning_rate : Semakin kecil valuenya makin membuat modelnya robust tapi membutuhkan lebih banyak boosting rounds.\n",
    "- max_depth : Parameter ini menunjukkan kedalaman maksimal dari sebuah tree. \n",
    "- n_estimator : Menunjukkan boosting rounds atau tree yang diperlukan untuk membuat model.\n",
    "- scale_post_weight : Parameter ini spesifik untuk XGBoost untuk tugas klasifikasi biner dan control keseimbangan untuk class positive dan negative.\n",
    "- subsample : Value 0.8 menandakan bahwa 80% dari data training akan dimanfaatkan untuk setiap boosting round."
   ]
  },
  {
   "cell_type": "markdown",
   "metadata": {},
   "source": [
    "### XGBoost Feature Importance"
   ]
  },
  {
   "cell_type": "code",
   "execution_count": 67,
   "metadata": {},
   "outputs": [
    {
     "data": {
      "image/png": "[encoded data removed]",
      "text/plain": [
       "<Figure size 2000x1400 with 1 Axes>"
      ]
     },
     "metadata": {},
     "output_type": "display_data"
    }
   ],
   "source": [
    "# Compute feature importances\n",
    "feature_importances = best_xgb.feature_importances_\n",
    "\n",
    "# Sort the feature importances in descending order and get the indices\n",
    "sorted_indices = np.argsort(feature_importances)[::-1]\n",
    "\n",
    "# Plot feature importances\n",
    "plt.figure(figsize=(10, 7), dpi=200)\n",
    "sns.barplot(x=feature_importances[sorted_indices], y=X.columns[sorted_indices], color='darkturquoise')\n",
    "plt.xlabel('Feature Importance')\n",
    "plt.title('Feature Importances')\n",
    "plt.yticks(fontsize=7)\n",
    "plt.show()"
   ]
  },
  {
   "cell_type": "markdown",
   "metadata": {},
   "source": [
    "### XGBoost Result"
   ]
  },
  {
   "cell_type": "code",
   "execution_count": 68,
   "metadata": {},
   "outputs": [
    {
     "name": "stdout",
     "output_type": "stream",
     "text": [
      "\n",
      "\t  Classification report for training set\n",
      "-------------------------------------------------------\n",
      "              precision    recall  f1-score   support\n",
      "\n",
      "           0       0.87      0.82      0.84     42234\n",
      "           1       0.71      0.78      0.75     24614\n",
      "\n",
      "    accuracy                           0.81     66848\n",
      "   macro avg       0.79      0.80      0.79     66848\n",
      "weighted avg       0.81      0.81      0.81     66848\n",
      "\n",
      "\n",
      "\t   Classification report for test set\n",
      "-------------------------------------------------------\n",
      "              precision    recall  f1-score   support\n",
      "\n",
      "           0       0.86      0.81      0.84     10559\n",
      "           1       0.71      0.78      0.74      6153\n",
      "\n",
      "    accuracy                           0.80     16712\n",
      "   macro avg       0.79      0.80      0.79     16712\n",
      "weighted avg       0.81      0.80      0.80     16712\n",
      "\n"
     ]
    },
    {
     "data": {
      "image/png": "[encoded data removed]",
      "text/plain": [
       "<Figure size 1500x500 with 3 Axes>"
      ]
     },
     "metadata": {},
     "output_type": "display_data"
    }
   ],
   "source": [
    "model_evaluation(best_xgb, X_train, X_test, y_train, y_test, 'XGBoost')"
   ]
  },
  {
   "cell_type": "markdown",
   "metadata": {},
   "source": [
    "1.  Precision : Dari semua prediksi untuk class (1), model berhasil untuk memprediksi sebanyak 71% dari pembatalan reservasi yang benar melakukan pembatalan. Dan hanya menyisakan 30% kebawah ruang untuk model masih mungkin untuk melakukan kesalahan prediksi. Hal ini sudah sangat baik dimana berarti hotel dapat meminimalisir permasalahan yang mungkin timbul dari false positive sebanyak 71%.\n",
    "2. Recall : Dari semua prediksi untuk class (1), model berhasil untuk memprediksi sebanyak 78% dimana reservasi benar tidak dibatalkan. Dan hanya tersisa 20% ruang untuk adanya false negative. Hal ini dapat membantu hotel untuk dapat merencakan tindakan awal untuk mencegah kehilangan banyak tamu karena tidak adanya kamar yang kosong karena overbooking.\n",
    "3. F1-Score : Dengan melihat value dari F1-Score untuk class (1 / canceled). Value yang tinggi dari F1-Score menandakan keseimbangan diantara memperkecil cost untuk false negative dan false positive, dimana hal ini merupakan hal yang sangat berpengaruh terhadap hotel untuk mengoptimalkan kesediaan kamar dan meminimalisir overbooking dan ketidakpuasan tamu. "
   ]
  },
  {
   "cell_type": "markdown",
   "metadata": {},
   "source": [
    "Contoh Implementasi Lapangan : \n",
    "    Misal harga booking 1 kamar : 100$\n",
    "\n",
    "Tanpa Model :\n",
    " - Ekspektasi Total Pemasukan : 100 * 100$ = 10000$\n",
    " - Total pemasukan sebenarnya : 22 * 100$ = 2200$ (False Negative)\n",
    " - Kerugian : 7800$\n",
    "\n",
    "Dengan Model : \n",
    " - Ekspektasi Total Pemasukan : 100 * 100$ = 10000$\n",
    " - Total pemasukan sebenarnya : 78 * 100$ = 7800$\n",
    " - Kerugian : 2200$\n",
    "\n",
    "Bersarakan contoh perhitungan diatas, maka estimasi kerugian yang mungkin akan dialami oleh hotel dapat berkurang drastis dengan model yang kita jalankan."
   ]
  }
 ],
 "metadata": {
  "kernelspec": {
   "display_name": "Python 3",
   "language": "python",
   "name": "python3"
  },
  "language_info": {
   "codemirror_mode": {
    "name": "ipython",
    "version": 3
   },
   "file_extension": ".py",
   "mimetype": "text/x-python",
   "name": "python",
   "nbconvert_exporter": "python",
   "pygments_lexer": "ipython3",
   "version": "3.11.5"
  }
 },
 "nbformat": 4,
 "nbformat_minor": 2
}
